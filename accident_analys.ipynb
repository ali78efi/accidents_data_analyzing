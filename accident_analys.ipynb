{
 "cells": [
  {
   "cell_type": "code",
   "execution_count": 88,
   "id": "9fe25bcc-573b-4d39-8848-dd5635a72a92",
   "metadata": {},
   "outputs": [],
   "source": [
    "import pandas as pd\n",
    "import matplotlib.pyplot as plt\n",
    "import seaborn as sns"
   ]
  },
  {
   "cell_type": "markdown",
   "id": "ed79eae5-8e3e-401f-ab41-f6978fc846a4",
   "metadata": {},
   "source": [
    "# data loading and preparing"
   ]
  },
  {
   "cell_type": "code",
   "execution_count": 89,
   "id": "1b57525f-1914-457c-9892-f9d4f228e9ca",
   "metadata": {},
   "outputs": [
    {
     "data": {
      "text/html": [
       "<div>\n",
       "<style scoped>\n",
       "    .dataframe tbody tr th:only-of-type {\n",
       "        vertical-align: middle;\n",
       "    }\n",
       "\n",
       "    .dataframe tbody tr th {\n",
       "        vertical-align: top;\n",
       "    }\n",
       "\n",
       "    .dataframe thead th {\n",
       "        text-align: right;\n",
       "    }\n",
       "</style>\n",
       "<table border=\"1\" class=\"dataframe\">\n",
       "  <thead>\n",
       "    <tr style=\"text-align: right;\">\n",
       "      <th></th>\n",
       "      <th>status</th>\n",
       "      <th>accident_year</th>\n",
       "      <th>accident_reference</th>\n",
       "      <th>vehicle_reference</th>\n",
       "      <th>casualty_reference</th>\n",
       "      <th>casualty_class</th>\n",
       "      <th>sex_of_casualty</th>\n",
       "      <th>age_of_casualty</th>\n",
       "      <th>age_band_of_casualty</th>\n",
       "      <th>casualty_severity</th>\n",
       "      <th>pedestrian_location</th>\n",
       "      <th>pedestrian_movement</th>\n",
       "      <th>car_passenger</th>\n",
       "      <th>bus_or_coach_passenger</th>\n",
       "      <th>pedestrian_road_maintenance_worker</th>\n",
       "      <th>casualty_type</th>\n",
       "      <th>casualty_home_area_type</th>\n",
       "      <th>casualty_imd_decile</th>\n",
       "      <th>lsoa_of_casualty</th>\n",
       "    </tr>\n",
       "    <tr>\n",
       "      <th>accident_index</th>\n",
       "      <th></th>\n",
       "      <th></th>\n",
       "      <th></th>\n",
       "      <th></th>\n",
       "      <th></th>\n",
       "      <th></th>\n",
       "      <th></th>\n",
       "      <th></th>\n",
       "      <th></th>\n",
       "      <th></th>\n",
       "      <th></th>\n",
       "      <th></th>\n",
       "      <th></th>\n",
       "      <th></th>\n",
       "      <th></th>\n",
       "      <th></th>\n",
       "      <th></th>\n",
       "      <th></th>\n",
       "      <th></th>\n",
       "    </tr>\n",
       "  </thead>\n",
       "  <tbody>\n",
       "    <tr>\n",
       "      <th>2022070151244</th>\n",
       "      <td>Unvalidated</td>\n",
       "      <td>2022</td>\n",
       "      <td>070151244</td>\n",
       "      <td>2</td>\n",
       "      <td>1</td>\n",
       "      <td>1</td>\n",
       "      <td>2</td>\n",
       "      <td>46</td>\n",
       "      <td>8</td>\n",
       "      <td>3</td>\n",
       "      <td>0</td>\n",
       "      <td>0</td>\n",
       "      <td>0</td>\n",
       "      <td>0</td>\n",
       "      <td>0</td>\n",
       "      <td>9</td>\n",
       "      <td>1</td>\n",
       "      <td>9</td>\n",
       "      <td>E01033378</td>\n",
       "    </tr>\n",
       "    <tr>\n",
       "      <th>2022070152668</th>\n",
       "      <td>Unvalidated</td>\n",
       "      <td>2022</td>\n",
       "      <td>070152668</td>\n",
       "      <td>1</td>\n",
       "      <td>1</td>\n",
       "      <td>1</td>\n",
       "      <td>1</td>\n",
       "      <td>30</td>\n",
       "      <td>6</td>\n",
       "      <td>3</td>\n",
       "      <td>0</td>\n",
       "      <td>0</td>\n",
       "      <td>0</td>\n",
       "      <td>0</td>\n",
       "      <td>0</td>\n",
       "      <td>9</td>\n",
       "      <td>1</td>\n",
       "      <td>2</td>\n",
       "      <td>E01018551</td>\n",
       "    </tr>\n",
       "    <tr>\n",
       "      <th>2022070154696</th>\n",
       "      <td>Unvalidated</td>\n",
       "      <td>2022</td>\n",
       "      <td>070154696</td>\n",
       "      <td>1</td>\n",
       "      <td>1</td>\n",
       "      <td>1</td>\n",
       "      <td>2</td>\n",
       "      <td>58</td>\n",
       "      <td>9</td>\n",
       "      <td>3</td>\n",
       "      <td>0</td>\n",
       "      <td>0</td>\n",
       "      <td>0</td>\n",
       "      <td>0</td>\n",
       "      <td>0</td>\n",
       "      <td>9</td>\n",
       "      <td>1</td>\n",
       "      <td>10</td>\n",
       "      <td>E01006134</td>\n",
       "    </tr>\n",
       "    <tr>\n",
       "      <th>2022070154696</th>\n",
       "      <td>Unvalidated</td>\n",
       "      <td>2022</td>\n",
       "      <td>070154696</td>\n",
       "      <td>2</td>\n",
       "      <td>3</td>\n",
       "      <td>1</td>\n",
       "      <td>2</td>\n",
       "      <td>78</td>\n",
       "      <td>11</td>\n",
       "      <td>3</td>\n",
       "      <td>0</td>\n",
       "      <td>0</td>\n",
       "      <td>0</td>\n",
       "      <td>0</td>\n",
       "      <td>0</td>\n",
       "      <td>9</td>\n",
       "      <td>2</td>\n",
       "      <td>10</td>\n",
       "      <td>E01018724</td>\n",
       "    </tr>\n",
       "    <tr>\n",
       "      <th>2022070154696</th>\n",
       "      <td>Unvalidated</td>\n",
       "      <td>2022</td>\n",
       "      <td>070154696</td>\n",
       "      <td>3</td>\n",
       "      <td>2</td>\n",
       "      <td>1</td>\n",
       "      <td>1</td>\n",
       "      <td>63</td>\n",
       "      <td>9</td>\n",
       "      <td>3</td>\n",
       "      <td>0</td>\n",
       "      <td>0</td>\n",
       "      <td>0</td>\n",
       "      <td>0</td>\n",
       "      <td>0</td>\n",
       "      <td>9</td>\n",
       "      <td>3</td>\n",
       "      <td>7</td>\n",
       "      <td>W01000578</td>\n",
       "    </tr>\n",
       "  </tbody>\n",
       "</table>\n",
       "</div>"
      ],
      "text/plain": [
       "                     status  accident_year accident_reference  \\\n",
       "accident_index                                                  \n",
       "2022070151244   Unvalidated           2022          070151244   \n",
       "2022070152668   Unvalidated           2022          070152668   \n",
       "2022070154696   Unvalidated           2022          070154696   \n",
       "2022070154696   Unvalidated           2022          070154696   \n",
       "2022070154696   Unvalidated           2022          070154696   \n",
       "\n",
       "                vehicle_reference  casualty_reference  casualty_class  \\\n",
       "accident_index                                                          \n",
       "2022070151244                   2                   1               1   \n",
       "2022070152668                   1                   1               1   \n",
       "2022070154696                   1                   1               1   \n",
       "2022070154696                   2                   3               1   \n",
       "2022070154696                   3                   2               1   \n",
       "\n",
       "                sex_of_casualty  age_of_casualty  age_band_of_casualty  \\\n",
       "accident_index                                                           \n",
       "2022070151244                 2               46                     8   \n",
       "2022070152668                 1               30                     6   \n",
       "2022070154696                 2               58                     9   \n",
       "2022070154696                 2               78                    11   \n",
       "2022070154696                 1               63                     9   \n",
       "\n",
       "                casualty_severity  pedestrian_location  pedestrian_movement  \\\n",
       "accident_index                                                                \n",
       "2022070151244                   3                    0                    0   \n",
       "2022070152668                   3                    0                    0   \n",
       "2022070154696                   3                    0                    0   \n",
       "2022070154696                   3                    0                    0   \n",
       "2022070154696                   3                    0                    0   \n",
       "\n",
       "                car_passenger  bus_or_coach_passenger  \\\n",
       "accident_index                                          \n",
       "2022070151244               0                       0   \n",
       "2022070152668               0                       0   \n",
       "2022070154696               0                       0   \n",
       "2022070154696               0                       0   \n",
       "2022070154696               0                       0   \n",
       "\n",
       "                pedestrian_road_maintenance_worker  casualty_type  \\\n",
       "accident_index                                                      \n",
       "2022070151244                                    0              9   \n",
       "2022070152668                                    0              9   \n",
       "2022070154696                                    0              9   \n",
       "2022070154696                                    0              9   \n",
       "2022070154696                                    0              9   \n",
       "\n",
       "                casualty_home_area_type  casualty_imd_decile lsoa_of_casualty  \n",
       "accident_index                                                                 \n",
       "2022070151244                         1                    9        E01033378  \n",
       "2022070152668                         1                    2        E01018551  \n",
       "2022070154696                         1                   10        E01006134  \n",
       "2022070154696                         2                   10        E01018724  \n",
       "2022070154696                         3                    7        W01000578  "
      ]
     },
     "execution_count": 89,
     "metadata": {},
     "output_type": "execute_result"
    }
   ],
   "source": [
    "data = pd.read_csv('./dft-road-casualty-statistics-casualty-provisional-mid-year-unvalidated-2022.csv', index_col=\"accident_index\")\n",
    "data.head()"
   ]
  },
  {
   "cell_type": "code",
   "execution_count": 90,
   "id": "4cae16cf-9afd-44fd-ac09-fad276c4137e",
   "metadata": {},
   "outputs": [
    {
     "name": "stdout",
     "output_type": "stream",
     "text": [
      "<class 'pandas.core.frame.DataFrame'>\n",
      "Index: 61352 entries, 2022070151244 to 2022461159841\n",
      "Data columns (total 19 columns):\n",
      " #   Column                              Non-Null Count  Dtype \n",
      "---  ------                              --------------  ----- \n",
      " 0   status                              61352 non-null  object\n",
      " 1   accident_year                       61352 non-null  int64 \n",
      " 2   accident_reference                  61352 non-null  object\n",
      " 3   vehicle_reference                   61352 non-null  int64 \n",
      " 4   casualty_reference                  61352 non-null  int64 \n",
      " 5   casualty_class                      61352 non-null  int64 \n",
      " 6   sex_of_casualty                     61352 non-null  int64 \n",
      " 7   age_of_casualty                     61352 non-null  int64 \n",
      " 8   age_band_of_casualty                61352 non-null  int64 \n",
      " 9   casualty_severity                   61352 non-null  int64 \n",
      " 10  pedestrian_location                 61352 non-null  int64 \n",
      " 11  pedestrian_movement                 61352 non-null  int64 \n",
      " 12  car_passenger                       61352 non-null  int64 \n",
      " 13  bus_or_coach_passenger              61352 non-null  int64 \n",
      " 14  pedestrian_road_maintenance_worker  61352 non-null  int64 \n",
      " 15  casualty_type                       61352 non-null  int64 \n",
      " 16  casualty_home_area_type             61352 non-null  int64 \n",
      " 17  casualty_imd_decile                 61352 non-null  int64 \n",
      " 18  lsoa_of_casualty                    61352 non-null  object\n",
      "dtypes: int64(16), object(3)\n",
      "memory usage: 9.4+ MB\n"
     ]
    }
   ],
   "source": [
    "data.info()"
   ]
  },
  {
   "cell_type": "markdown",
   "id": "e793363d-135e-4c75-ab0f-18a9c8012038",
   "metadata": {},
   "source": [
    "# EDA"
   ]
  },
  {
   "cell_type": "markdown",
   "id": "88fbb06d-eaf4-4df2-b0b8-efe7f01fed9b",
   "metadata": {},
   "source": [
    "## status"
   ]
  },
  {
   "cell_type": "code",
   "execution_count": 91,
   "id": "fe836eaf-28c4-4e8b-867a-1ca61079f3f0",
   "metadata": {},
   "outputs": [
    {
     "data": {
      "text/plain": [
       "array(['Unvalidated'], dtype=object)"
      ]
     },
     "execution_count": 91,
     "metadata": {},
     "output_type": "execute_result"
    }
   ],
   "source": [
    "data['status'].unique()"
   ]
  },
  {
   "cell_type": "markdown",
   "id": "cff15086-1b1b-4e50-a4ca-72e4921d83ec",
   "metadata": {},
   "source": [
    "Every value in \"status\" column, is \"Unvalidated\".\n",
    "So this column has nothing to tell and we can drop it."
   ]
  },
  {
   "cell_type": "code",
   "execution_count": 92,
   "id": "b39b55c2-fd53-464d-b79f-afb51bac9fc6",
   "metadata": {},
   "outputs": [],
   "source": [
    "data = data.drop(['status'], axis=1)"
   ]
  },
  {
   "cell_type": "markdown",
   "id": "b69c221a-dd2c-48dd-b251-b31fed3c3300",
   "metadata": {},
   "source": [
    "## accident_year"
   ]
  },
  {
   "cell_type": "code",
   "execution_count": 93,
   "id": "865c18a1-bfe4-4f5b-9473-84ae16602baa",
   "metadata": {},
   "outputs": [
    {
     "data": {
      "text/plain": [
       "array([2022], dtype=int64)"
      ]
     },
     "execution_count": 93,
     "metadata": {},
     "output_type": "execute_result"
    }
   ],
   "source": [
    "data.accident_year.unique()"
   ]
  },
  {
   "cell_type": "markdown",
   "id": "6aa66ffd-b7b9-46d4-a53a-853431ac1cda",
   "metadata": {},
   "source": [
    "Every value in \"accident_year\" column, is \"2022\".\n",
    "So this column has nothing to tell and we can drop it."
   ]
  },
  {
   "cell_type": "code",
   "execution_count": 94,
   "id": "98ec518a-a6ed-42b1-b604-c0c42fc49280",
   "metadata": {},
   "outputs": [],
   "source": [
    "data = data.drop(['accident_year'], axis=1)"
   ]
  },
  {
   "cell_type": "markdown",
   "id": "cd5dd003-bca9-4c44-b3b8-b73005305933",
   "metadata": {},
   "source": [
    "## accident_reference"
   ]
  },
  {
   "cell_type": "code",
   "execution_count": 95,
   "id": "9cdcb7dd-fee6-414e-910f-51000436487d",
   "metadata": {
    "scrolled": true
   },
   "outputs": [
    {
     "name": "stdout",
     "output_type": "stream",
     "text": [
      "170H10152\n"
     ]
    }
   ],
   "source": [
    "data.accident_reference.unique()\n",
    "# no problem with unique values\n",
    "data.accident_reference.nunique()\n",
    "# there is 48283 kind of values in this column\n",
    "\n",
    "# trying to turn it to numeric tyupe\n",
    "for value in data.accident_reference:\n",
    "    try:\n",
    "        float(value)\n",
    "    except:\n",
    "        print(value)\n",
    "        break"
   ]
  },
  {
   "cell_type": "markdown",
   "id": "80b5a8de-1871-4b35-84e6-6ed605a01d24",
   "metadata": {},
   "source": [
    "this column is a kind of code.\n",
    "the nunique id too large to decode it.\n",
    "it's almost different for every column.\n",
    "so we refuse using it, because there is no information in this column."
   ]
  },
  {
   "cell_type": "code",
   "execution_count": 96,
   "id": "7226b49b-3635-4750-bcbb-a5d038abaf0e",
   "metadata": {},
   "outputs": [],
   "source": [
    "data = data.drop(['accident_reference'], axis=1)"
   ]
  },
  {
   "cell_type": "markdown",
   "id": "e7cdad5b-b044-4181-ba06-c2a913a5ebd4",
   "metadata": {},
   "source": [
    "## vehicle_reference"
   ]
  },
  {
   "cell_type": "code",
   "execution_count": 97,
   "id": "3f2d9f02-00d9-44a5-89dd-e0d2b5d89b19",
   "metadata": {},
   "outputs": [
    {
     "data": {
      "text/plain": [
       "array([  2,   1,   3,   4,   5,   8,   6,   9, 227,   7,  61], dtype=int64)"
      ]
     },
     "execution_count": 97,
     "metadata": {},
     "output_type": "execute_result"
    }
   ],
   "source": [
    "data.vehicle_reference.unique()\n",
    "# 277 and 61 should be checked"
   ]
  },
  {
   "cell_type": "code",
   "execution_count": 98,
   "id": "3001ab57-f224-4c8c-a4b1-69d7cb174dac",
   "metadata": {},
   "outputs": [
    {
     "data": {
      "text/html": [
       "<div>\n",
       "<style scoped>\n",
       "    .dataframe tbody tr th:only-of-type {\n",
       "        vertical-align: middle;\n",
       "    }\n",
       "\n",
       "    .dataframe tbody tr th {\n",
       "        vertical-align: top;\n",
       "    }\n",
       "\n",
       "    .dataframe thead th {\n",
       "        text-align: right;\n",
       "    }\n",
       "</style>\n",
       "<table border=\"1\" class=\"dataframe\">\n",
       "  <thead>\n",
       "    <tr style=\"text-align: right;\">\n",
       "      <th></th>\n",
       "      <th>vehicle_reference</th>\n",
       "      <th>casualty_reference</th>\n",
       "      <th>casualty_class</th>\n",
       "      <th>sex_of_casualty</th>\n",
       "      <th>age_of_casualty</th>\n",
       "      <th>age_band_of_casualty</th>\n",
       "      <th>casualty_severity</th>\n",
       "      <th>pedestrian_location</th>\n",
       "      <th>pedestrian_movement</th>\n",
       "      <th>car_passenger</th>\n",
       "      <th>bus_or_coach_passenger</th>\n",
       "      <th>pedestrian_road_maintenance_worker</th>\n",
       "      <th>casualty_type</th>\n",
       "      <th>casualty_home_area_type</th>\n",
       "      <th>casualty_imd_decile</th>\n",
       "      <th>lsoa_of_casualty</th>\n",
       "    </tr>\n",
       "    <tr>\n",
       "      <th>accident_index</th>\n",
       "      <th></th>\n",
       "      <th></th>\n",
       "      <th></th>\n",
       "      <th></th>\n",
       "      <th></th>\n",
       "      <th></th>\n",
       "      <th></th>\n",
       "      <th></th>\n",
       "      <th></th>\n",
       "      <th></th>\n",
       "      <th></th>\n",
       "      <th></th>\n",
       "      <th></th>\n",
       "      <th></th>\n",
       "      <th></th>\n",
       "      <th></th>\n",
       "    </tr>\n",
       "  </thead>\n",
       "  <tbody>\n",
       "    <tr>\n",
       "      <th>2022311153207</th>\n",
       "      <td>227</td>\n",
       "      <td>1</td>\n",
       "      <td>3</td>\n",
       "      <td>2</td>\n",
       "      <td>14</td>\n",
       "      <td>3</td>\n",
       "      <td>3</td>\n",
       "      <td>1</td>\n",
       "      <td>3</td>\n",
       "      <td>0</td>\n",
       "      <td>0</td>\n",
       "      <td>0</td>\n",
       "      <td>0</td>\n",
       "      <td>1</td>\n",
       "      <td>2</td>\n",
       "      <td>E01013947</td>\n",
       "    </tr>\n",
       "    <tr>\n",
       "      <th>2022311214493</th>\n",
       "      <td>61</td>\n",
       "      <td>1</td>\n",
       "      <td>1</td>\n",
       "      <td>1</td>\n",
       "      <td>21</td>\n",
       "      <td>5</td>\n",
       "      <td>3</td>\n",
       "      <td>0</td>\n",
       "      <td>0</td>\n",
       "      <td>0</td>\n",
       "      <td>0</td>\n",
       "      <td>0</td>\n",
       "      <td>3</td>\n",
       "      <td>2</td>\n",
       "      <td>8</td>\n",
       "      <td>E01028032</td>\n",
       "    </tr>\n",
       "  </tbody>\n",
       "</table>\n",
       "</div>"
      ],
      "text/plain": [
       "                vehicle_reference  casualty_reference  casualty_class  \\\n",
       "accident_index                                                          \n",
       "2022311153207                 227                   1               3   \n",
       "2022311214493                  61                   1               1   \n",
       "\n",
       "                sex_of_casualty  age_of_casualty  age_band_of_casualty  \\\n",
       "accident_index                                                           \n",
       "2022311153207                 2               14                     3   \n",
       "2022311214493                 1               21                     5   \n",
       "\n",
       "                casualty_severity  pedestrian_location  pedestrian_movement  \\\n",
       "accident_index                                                                \n",
       "2022311153207                   3                    1                    3   \n",
       "2022311214493                   3                    0                    0   \n",
       "\n",
       "                car_passenger  bus_or_coach_passenger  \\\n",
       "accident_index                                          \n",
       "2022311153207               0                       0   \n",
       "2022311214493               0                       0   \n",
       "\n",
       "                pedestrian_road_maintenance_worker  casualty_type  \\\n",
       "accident_index                                                      \n",
       "2022311153207                                    0              0   \n",
       "2022311214493                                    0              3   \n",
       "\n",
       "                casualty_home_area_type  casualty_imd_decile lsoa_of_casualty  \n",
       "accident_index                                                                 \n",
       "2022311153207                         1                    2        E01013947  \n",
       "2022311214493                         2                    8        E01028032  "
      ]
     },
     "execution_count": 98,
     "metadata": {},
     "output_type": "execute_result"
    }
   ],
   "source": [
    "data[ (data.vehicle_reference == 61) | (data.vehicle_reference == 227) ] \n",
    "# they are outlier data"
   ]
  },
  {
   "cell_type": "code",
   "execution_count": 99,
   "id": "2fe89301-eb9d-44bb-9a44-961958b95081",
   "metadata": {},
   "outputs": [],
   "source": [
    "# turning this outliers values to None\n",
    "vehicle_ref_outliers = data[ (data.vehicle_reference == 61) | (data.vehicle_reference == 227) ].index\n",
    "for item in vehicle_ref_outliers:\n",
    "    data.loc[item, 'vehicle_reference'] = None"
   ]
  },
  {
   "cell_type": "markdown",
   "id": "cdb7f7fe-d177-4ac1-a343-8c084d673b3d",
   "metadata": {},
   "source": [
    "## casualty_reference"
   ]
  },
  {
   "cell_type": "code",
   "execution_count": 100,
   "id": "5b898a7c-e3bb-4308-814c-7748403d810a",
   "metadata": {},
   "outputs": [
    {
     "data": {
      "text/html": [
       "<div>\n",
       "<style scoped>\n",
       "    .dataframe tbody tr th:only-of-type {\n",
       "        vertical-align: middle;\n",
       "    }\n",
       "\n",
       "    .dataframe tbody tr th {\n",
       "        vertical-align: top;\n",
       "    }\n",
       "\n",
       "    .dataframe thead th {\n",
       "        text-align: right;\n",
       "    }\n",
       "</style>\n",
       "<table border=\"1\" class=\"dataframe\">\n",
       "  <thead>\n",
       "    <tr style=\"text-align: right;\">\n",
       "      <th></th>\n",
       "      <th>vehicle_reference</th>\n",
       "      <th>casualty_reference</th>\n",
       "      <th>casualty_class</th>\n",
       "      <th>sex_of_casualty</th>\n",
       "      <th>age_of_casualty</th>\n",
       "      <th>age_band_of_casualty</th>\n",
       "      <th>casualty_severity</th>\n",
       "      <th>pedestrian_location</th>\n",
       "      <th>pedestrian_movement</th>\n",
       "      <th>car_passenger</th>\n",
       "      <th>bus_or_coach_passenger</th>\n",
       "      <th>pedestrian_road_maintenance_worker</th>\n",
       "      <th>casualty_type</th>\n",
       "      <th>casualty_home_area_type</th>\n",
       "      <th>casualty_imd_decile</th>\n",
       "      <th>lsoa_of_casualty</th>\n",
       "    </tr>\n",
       "    <tr>\n",
       "      <th>accident_index</th>\n",
       "      <th></th>\n",
       "      <th></th>\n",
       "      <th></th>\n",
       "      <th></th>\n",
       "      <th></th>\n",
       "      <th></th>\n",
       "      <th></th>\n",
       "      <th></th>\n",
       "      <th></th>\n",
       "      <th></th>\n",
       "      <th></th>\n",
       "      <th></th>\n",
       "      <th></th>\n",
       "      <th></th>\n",
       "      <th></th>\n",
       "      <th></th>\n",
       "    </tr>\n",
       "  </thead>\n",
       "  <tbody>\n",
       "    <tr>\n",
       "      <th>2022231137324</th>\n",
       "      <td>1.0</td>\n",
       "      <td>22</td>\n",
       "      <td>2</td>\n",
       "      <td>1</td>\n",
       "      <td>24</td>\n",
       "      <td>5</td>\n",
       "      <td>3</td>\n",
       "      <td>0</td>\n",
       "      <td>0</td>\n",
       "      <td>1</td>\n",
       "      <td>0</td>\n",
       "      <td>0</td>\n",
       "      <td>9</td>\n",
       "      <td>1</td>\n",
       "      <td>6</td>\n",
       "      <td>E01009278</td>\n",
       "    </tr>\n",
       "    <tr>\n",
       "      <th>2022302200086</th>\n",
       "      <td>2.0</td>\n",
       "      <td>148</td>\n",
       "      <td>1</td>\n",
       "      <td>2</td>\n",
       "      <td>21</td>\n",
       "      <td>5</td>\n",
       "      <td>3</td>\n",
       "      <td>0</td>\n",
       "      <td>0</td>\n",
       "      <td>0</td>\n",
       "      <td>0</td>\n",
       "      <td>0</td>\n",
       "      <td>3</td>\n",
       "      <td>1</td>\n",
       "      <td>3</td>\n",
       "      <td>E01013471</td>\n",
       "    </tr>\n",
       "  </tbody>\n",
       "</table>\n",
       "</div>"
      ],
      "text/plain": [
       "                vehicle_reference  casualty_reference  casualty_class  \\\n",
       "accident_index                                                          \n",
       "2022231137324                 1.0                  22               2   \n",
       "2022302200086                 2.0                 148               1   \n",
       "\n",
       "                sex_of_casualty  age_of_casualty  age_band_of_casualty  \\\n",
       "accident_index                                                           \n",
       "2022231137324                 1               24                     5   \n",
       "2022302200086                 2               21                     5   \n",
       "\n",
       "                casualty_severity  pedestrian_location  pedestrian_movement  \\\n",
       "accident_index                                                                \n",
       "2022231137324                   3                    0                    0   \n",
       "2022302200086                   3                    0                    0   \n",
       "\n",
       "                car_passenger  bus_or_coach_passenger  \\\n",
       "accident_index                                          \n",
       "2022231137324               1                       0   \n",
       "2022302200086               0                       0   \n",
       "\n",
       "                pedestrian_road_maintenance_worker  casualty_type  \\\n",
       "accident_index                                                      \n",
       "2022231137324                                    0              9   \n",
       "2022302200086                                    0              3   \n",
       "\n",
       "                casualty_home_area_type  casualty_imd_decile lsoa_of_casualty  \n",
       "accident_index                                                                 \n",
       "2022231137324                         1                    6        E01009278  \n",
       "2022302200086                         1                    3        E01013471  "
      ]
     },
     "execution_count": 100,
     "metadata": {},
     "output_type": "execute_result"
    }
   ],
   "source": [
    "data['casualty_reference'].unique() \n",
    "# 22 and 148 should be checked\n",
    "data[(data['casualty_reference'] == 22) | (data['casualty_reference'] == 148)]\n",
    "# they are outlier data"
   ]
  },
  {
   "cell_type": "code",
   "execution_count": 101,
   "id": "a4b0d590-4b07-467d-9bec-d768cd6c6050",
   "metadata": {},
   "outputs": [],
   "source": [
    "# turning this outliers values to None\n",
    "casualty_ref_outliers = data[ (data.casualty_reference == 22) | (data.casualty_reference == 148) ].index\n",
    "for item in casualty_ref_outliers:\n",
    "    data.loc[item, 'casualty_reference'] = None"
   ]
  },
  {
   "cell_type": "markdown",
   "id": "680bef84-89ea-4554-aef3-226c6c305840",
   "metadata": {},
   "source": [
    "## casualty_class"
   ]
  },
  {
   "cell_type": "code",
   "execution_count": 102,
   "id": "54a5e42c-412d-4ff4-bfc7-ad28b2710aac",
   "metadata": {},
   "outputs": [
    {
     "data": {
      "text/plain": [
       "array([1, 2, 3], dtype=int64)"
      ]
     },
     "execution_count": 102,
     "metadata": {},
     "output_type": "execute_result"
    }
   ],
   "source": [
    "data.casualty_class.unique()\n",
    "# no problem with unique values"
   ]
  },
  {
   "cell_type": "code",
   "execution_count": 103,
   "id": "35fa7851-8f10-416a-9079-8287aaa395bd",
   "metadata": {},
   "outputs": [
    {
     "data": {
      "text/plain": [
       "<Axes: xlabel='casualty_class', ylabel='Count'>"
      ]
     },
     "execution_count": 103,
     "metadata": {},
     "output_type": "execute_result"
    },
    {
     "data": {
      "image/png": "[encoded data removed]",
      "text/plain": [
       "<Figure size 640x480 with 1 Axes>"
      ]
     },
     "metadata": {},
     "output_type": "display_data"
    }
   ],
   "source": [
    "sns.histplot(data.casualty_class)\n",
    "# a huge part of dataset is about class 1"
   ]
  },
  {
   "cell_type": "code",
   "execution_count": 104,
   "id": "9ccacbc3-d486-4889-b14e-0022d93615c7",
   "metadata": {},
   "outputs": [
    {
     "data": {
      "text/plain": [
       "array([ 2,  1, -1,  9], dtype=int64)"
      ]
     },
     "execution_count": 104,
     "metadata": {},
     "output_type": "execute_result"
    }
   ],
   "source": [
    "data.sex_of_casualty.unique()\n",
    "# no pattern detected in unique"
   ]
  },
  {
   "cell_type": "code",
   "execution_count": 105,
   "id": "8d3c3087-6b97-42e7-bb58-d9beff02f89d",
   "metadata": {},
   "outputs": [
    {
     "data": {
      "text/plain": [
       "<Axes: xlabel='sex_of_casualty', ylabel='Count'>"
      ]
     },
     "execution_count": 105,
     "metadata": {},
     "output_type": "execute_result"
    },
    {
     "data": {
      "image/png": "[encoded data removed]",
      "text/plain": [
       "<Figure size 640x480 with 1 Axes>"
      ]
     },
     "metadata": {},
     "output_type": "display_data"
    }
   ],
   "source": [
    "sns.histplot(data.sex_of_casualty)\n",
    "# considering -1 and 9 as outliers"
   ]
  },
  {
   "cell_type": "code",
   "execution_count": 106,
   "id": "b6dfe7fd-89f9-4a0b-b33e-c98b47c4d462",
   "metadata": {},
   "outputs": [],
   "source": [
    "# turning this outliers values to None\n",
    "sex_of_casualty_outliers = data[ (data.sex_of_casualty == -1) | (data.sex_of_casualty == 9) ].index\n",
    "for item in sex_of_casualty_outliers:\n",
    "    data.loc[item, 'sex_of_casualty'] = None"
   ]
  },
  {
   "cell_type": "markdown",
   "id": "84f34492-c466-4d85-a2b2-c2e56713a940",
   "metadata": {},
   "source": [
    "## age_of_casualty"
   ]
  },
  {
   "cell_type": "code",
   "execution_count": 111,
   "id": "b6c0e355-61ce-4f73-8fe5-131e1a449686",
   "metadata": {},
   "outputs": [
    {
     "data": {
      "text/plain": [
       "array([ 46,  30,  58,  78,  63,  52,  50,  16,  74,  79,  13,  48,  45,\n",
       "        28,  54,  42,  33,  34,   7,  20,  24,  18,  80,  14,  32,  19,\n",
       "        59,  36,  84,  23,  43,  55,   5,  31,  25,  26,  21,  72,  15,\n",
       "        22,  47,  86,  76,  61,  -1,  35,  51,  17,  68,  38,  73,  65,\n",
       "        27,  66,  93,  77,  60,  69,  41,  67,  91,  70,  40,  29,  57,\n",
       "        37,  53,  81,  12,  44,  39,  10,   8,  62,  56,  64,  49,   6,\n",
       "        75,  92,   3,  11,  71,  82,   9,   4,   2,   0,  87,   1,  83,\n",
       "        89,  88,  85,  96,  90,  99,  97,  94,  95,  98, 101], dtype=int64)"
      ]
     },
     "execution_count": 111,
     "metadata": {},
     "output_type": "execute_result"
    }
   ],
   "source": [
    "data.age_of_casualty.unique()\n",
    "# no problem with unique values\n",
    "data.age_band_of_casualty.nunique()\n",
    "# no problem with nunique values"
   ]
  },
  {
   "cell_type": "code",
   "execution_count": 110,
   "id": "ed618d39-1a12-4ebb-9f9d-69a42fd54282",
   "metadata": {},
   "outputs": [
    {
     "data": {
      "text/plain": [
       "<Axes: xlabel='age_of_casualty', ylabel='Count'>"
      ]
     },
     "execution_count": 110,
     "metadata": {},
     "output_type": "execute_result"
    },
    {
     "data": {
      "image/png": "[encoded data removed]",
      "text/plain": [
       "<Figure size 640x480 with 1 Axes>"
      ]
     },
     "metadata": {},
     "output_type": "display_data"
    }
   ],
   "source": [
    "sns.histplot(data.age_of_casualty)\n",
    "# there is a big bar for -1 \n",
    "# and its not following the bell shape"
   ]
  },
  {
   "cell_type": "code",
   "execution_count": 115,
   "id": "35100fff-7944-438c-98f3-e6b890637be3",
   "metadata": {},
   "outputs": [
    {
     "data": {
      "text/html": [
       "<div>\n",
       "<style scoped>\n",
       "    .dataframe tbody tr th:only-of-type {\n",
       "        vertical-align: middle;\n",
       "    }\n",
       "\n",
       "    .dataframe tbody tr th {\n",
       "        vertical-align: top;\n",
       "    }\n",
       "\n",
       "    .dataframe thead th {\n",
       "        text-align: right;\n",
       "    }\n",
       "</style>\n",
       "<table border=\"1\" class=\"dataframe\">\n",
       "  <thead>\n",
       "    <tr style=\"text-align: right;\">\n",
       "      <th></th>\n",
       "      <th>vehicle_reference</th>\n",
       "      <th>casualty_reference</th>\n",
       "      <th>casualty_class</th>\n",
       "      <th>sex_of_casualty</th>\n",
       "      <th>age_of_casualty</th>\n",
       "      <th>age_band_of_casualty</th>\n",
       "      <th>casualty_severity</th>\n",
       "      <th>pedestrian_location</th>\n",
       "      <th>pedestrian_movement</th>\n",
       "      <th>car_passenger</th>\n",
       "      <th>bus_or_coach_passenger</th>\n",
       "      <th>pedestrian_road_maintenance_worker</th>\n",
       "      <th>casualty_type</th>\n",
       "      <th>casualty_home_area_type</th>\n",
       "      <th>casualty_imd_decile</th>\n",
       "      <th>lsoa_of_casualty</th>\n",
       "    </tr>\n",
       "    <tr>\n",
       "      <th>accident_index</th>\n",
       "      <th></th>\n",
       "      <th></th>\n",
       "      <th></th>\n",
       "      <th></th>\n",
       "      <th></th>\n",
       "      <th></th>\n",
       "      <th></th>\n",
       "      <th></th>\n",
       "      <th></th>\n",
       "      <th></th>\n",
       "      <th></th>\n",
       "      <th></th>\n",
       "      <th></th>\n",
       "      <th></th>\n",
       "      <th></th>\n",
       "      <th></th>\n",
       "    </tr>\n",
       "  </thead>\n",
       "  <tbody>\n",
       "    <tr>\n",
       "      <th>2022161138447</th>\n",
       "      <td>1.0</td>\n",
       "      <td>1.0</td>\n",
       "      <td>1</td>\n",
       "      <td>NaN</td>\n",
       "      <td>-1</td>\n",
       "      <td>-1</td>\n",
       "      <td>3</td>\n",
       "      <td>0</td>\n",
       "      <td>0</td>\n",
       "      <td>0</td>\n",
       "      <td>0</td>\n",
       "      <td>0</td>\n",
       "      <td>3</td>\n",
       "      <td>-1</td>\n",
       "      <td>-1</td>\n",
       "      <td>-1</td>\n",
       "    </tr>\n",
       "    <tr>\n",
       "      <th>2022141135113</th>\n",
       "      <td>1.0</td>\n",
       "      <td>1.0</td>\n",
       "      <td>2</td>\n",
       "      <td>1.0</td>\n",
       "      <td>-1</td>\n",
       "      <td>-1</td>\n",
       "      <td>3</td>\n",
       "      <td>0</td>\n",
       "      <td>0</td>\n",
       "      <td>0</td>\n",
       "      <td>2</td>\n",
       "      <td>0</td>\n",
       "      <td>11</td>\n",
       "      <td>2</td>\n",
       "      <td>3</td>\n",
       "      <td>E01019807</td>\n",
       "    </tr>\n",
       "    <tr>\n",
       "      <th>2022201179119</th>\n",
       "      <td>2.0</td>\n",
       "      <td>1.0</td>\n",
       "      <td>1</td>\n",
       "      <td>1.0</td>\n",
       "      <td>-1</td>\n",
       "      <td>-1</td>\n",
       "      <td>3</td>\n",
       "      <td>0</td>\n",
       "      <td>0</td>\n",
       "      <td>0</td>\n",
       "      <td>0</td>\n",
       "      <td>0</td>\n",
       "      <td>9</td>\n",
       "      <td>-1</td>\n",
       "      <td>-1</td>\n",
       "      <td>-1</td>\n",
       "    </tr>\n",
       "    <tr>\n",
       "      <th>2022201179119</th>\n",
       "      <td>2.0</td>\n",
       "      <td>2.0</td>\n",
       "      <td>2</td>\n",
       "      <td>1.0</td>\n",
       "      <td>-1</td>\n",
       "      <td>-1</td>\n",
       "      <td>3</td>\n",
       "      <td>0</td>\n",
       "      <td>0</td>\n",
       "      <td>1</td>\n",
       "      <td>0</td>\n",
       "      <td>0</td>\n",
       "      <td>9</td>\n",
       "      <td>-1</td>\n",
       "      <td>-1</td>\n",
       "      <td>-1</td>\n",
       "    </tr>\n",
       "    <tr>\n",
       "      <th>2022201179619</th>\n",
       "      <td>1.0</td>\n",
       "      <td>1.0</td>\n",
       "      <td>3</td>\n",
       "      <td>1.0</td>\n",
       "      <td>-1</td>\n",
       "      <td>-1</td>\n",
       "      <td>3</td>\n",
       "      <td>4</td>\n",
       "      <td>1</td>\n",
       "      <td>0</td>\n",
       "      <td>0</td>\n",
       "      <td>2</td>\n",
       "      <td>0</td>\n",
       "      <td>-1</td>\n",
       "      <td>-1</td>\n",
       "      <td>-1</td>\n",
       "    </tr>\n",
       "    <tr>\n",
       "      <th>...</th>\n",
       "      <td>...</td>\n",
       "      <td>...</td>\n",
       "      <td>...</td>\n",
       "      <td>...</td>\n",
       "      <td>...</td>\n",
       "      <td>...</td>\n",
       "      <td>...</td>\n",
       "      <td>...</td>\n",
       "      <td>...</td>\n",
       "      <td>...</td>\n",
       "      <td>...</td>\n",
       "      <td>...</td>\n",
       "      <td>...</td>\n",
       "      <td>...</td>\n",
       "      <td>...</td>\n",
       "      <td>...</td>\n",
       "    </tr>\n",
       "    <tr>\n",
       "      <th>2022411142703</th>\n",
       "      <td>2.0</td>\n",
       "      <td>1.0</td>\n",
       "      <td>1</td>\n",
       "      <td>NaN</td>\n",
       "      <td>-1</td>\n",
       "      <td>-1</td>\n",
       "      <td>3</td>\n",
       "      <td>0</td>\n",
       "      <td>0</td>\n",
       "      <td>0</td>\n",
       "      <td>0</td>\n",
       "      <td>0</td>\n",
       "      <td>9</td>\n",
       "      <td>-1</td>\n",
       "      <td>-1</td>\n",
       "      <td>-1</td>\n",
       "    </tr>\n",
       "    <tr>\n",
       "      <th>2022201168992</th>\n",
       "      <td>2.0</td>\n",
       "      <td>3.0</td>\n",
       "      <td>2</td>\n",
       "      <td>1.0</td>\n",
       "      <td>-1</td>\n",
       "      <td>-1</td>\n",
       "      <td>3</td>\n",
       "      <td>0</td>\n",
       "      <td>0</td>\n",
       "      <td>1</td>\n",
       "      <td>0</td>\n",
       "      <td>0</td>\n",
       "      <td>9</td>\n",
       "      <td>1</td>\n",
       "      <td>8</td>\n",
       "      <td>E01009794</td>\n",
       "    </tr>\n",
       "    <tr>\n",
       "      <th>2022411146070</th>\n",
       "      <td>2.0</td>\n",
       "      <td>4.0</td>\n",
       "      <td>2</td>\n",
       "      <td>2.0</td>\n",
       "      <td>-1</td>\n",
       "      <td>-1</td>\n",
       "      <td>3</td>\n",
       "      <td>0</td>\n",
       "      <td>0</td>\n",
       "      <td>-1</td>\n",
       "      <td>0</td>\n",
       "      <td>0</td>\n",
       "      <td>9</td>\n",
       "      <td>1</td>\n",
       "      <td>4</td>\n",
       "      <td>E01023330</td>\n",
       "    </tr>\n",
       "    <tr>\n",
       "      <th>2022411161369</th>\n",
       "      <td>1.0</td>\n",
       "      <td>1.0</td>\n",
       "      <td>1</td>\n",
       "      <td>2.0</td>\n",
       "      <td>-1</td>\n",
       "      <td>-1</td>\n",
       "      <td>3</td>\n",
       "      <td>0</td>\n",
       "      <td>0</td>\n",
       "      <td>0</td>\n",
       "      <td>0</td>\n",
       "      <td>0</td>\n",
       "      <td>9</td>\n",
       "      <td>-1</td>\n",
       "      <td>-1</td>\n",
       "      <td>-1</td>\n",
       "    </tr>\n",
       "    <tr>\n",
       "      <th>2022461156056</th>\n",
       "      <td>1.0</td>\n",
       "      <td>1.0</td>\n",
       "      <td>3</td>\n",
       "      <td>1.0</td>\n",
       "      <td>-1</td>\n",
       "      <td>-1</td>\n",
       "      <td>3</td>\n",
       "      <td>10</td>\n",
       "      <td>9</td>\n",
       "      <td>0</td>\n",
       "      <td>0</td>\n",
       "      <td>2</td>\n",
       "      <td>0</td>\n",
       "      <td>-1</td>\n",
       "      <td>-1</td>\n",
       "      <td>-1</td>\n",
       "    </tr>\n",
       "  </tbody>\n",
       "</table>\n",
       "<p>1350 rows × 16 columns</p>\n",
       "</div>"
      ],
      "text/plain": [
       "                vehicle_reference  casualty_reference  casualty_class  \\\n",
       "accident_index                                                          \n",
       "2022161138447                 1.0                 1.0               1   \n",
       "2022141135113                 1.0                 1.0               2   \n",
       "2022201179119                 2.0                 1.0               1   \n",
       "2022201179119                 2.0                 2.0               2   \n",
       "2022201179619                 1.0                 1.0               3   \n",
       "...                           ...                 ...             ...   \n",
       "2022411142703                 2.0                 1.0               1   \n",
       "2022201168992                 2.0                 3.0               2   \n",
       "2022411146070                 2.0                 4.0               2   \n",
       "2022411161369                 1.0                 1.0               1   \n",
       "2022461156056                 1.0                 1.0               3   \n",
       "\n",
       "                sex_of_casualty  age_of_casualty  age_band_of_casualty  \\\n",
       "accident_index                                                           \n",
       "2022161138447               NaN               -1                    -1   \n",
       "2022141135113               1.0               -1                    -1   \n",
       "2022201179119               1.0               -1                    -1   \n",
       "2022201179119               1.0               -1                    -1   \n",
       "2022201179619               1.0               -1                    -1   \n",
       "...                         ...              ...                   ...   \n",
       "2022411142703               NaN               -1                    -1   \n",
       "2022201168992               1.0               -1                    -1   \n",
       "2022411146070               2.0               -1                    -1   \n",
       "2022411161369               2.0               -1                    -1   \n",
       "2022461156056               1.0               -1                    -1   \n",
       "\n",
       "                casualty_severity  pedestrian_location  pedestrian_movement  \\\n",
       "accident_index                                                                \n",
       "2022161138447                   3                    0                    0   \n",
       "2022141135113                   3                    0                    0   \n",
       "2022201179119                   3                    0                    0   \n",
       "2022201179119                   3                    0                    0   \n",
       "2022201179619                   3                    4                    1   \n",
       "...                           ...                  ...                  ...   \n",
       "2022411142703                   3                    0                    0   \n",
       "2022201168992                   3                    0                    0   \n",
       "2022411146070                   3                    0                    0   \n",
       "2022411161369                   3                    0                    0   \n",
       "2022461156056                   3                   10                    9   \n",
       "\n",
       "                car_passenger  bus_or_coach_passenger  \\\n",
       "accident_index                                          \n",
       "2022161138447               0                       0   \n",
       "2022141135113               0                       2   \n",
       "2022201179119               0                       0   \n",
       "2022201179119               1                       0   \n",
       "2022201179619               0                       0   \n",
       "...                       ...                     ...   \n",
       "2022411142703               0                       0   \n",
       "2022201168992               1                       0   \n",
       "2022411146070              -1                       0   \n",
       "2022411161369               0                       0   \n",
       "2022461156056               0                       0   \n",
       "\n",
       "                pedestrian_road_maintenance_worker  casualty_type  \\\n",
       "accident_index                                                      \n",
       "2022161138447                                    0              3   \n",
       "2022141135113                                    0             11   \n",
       "2022201179119                                    0              9   \n",
       "2022201179119                                    0              9   \n",
       "2022201179619                                    2              0   \n",
       "...                                            ...            ...   \n",
       "2022411142703                                    0              9   \n",
       "2022201168992                                    0              9   \n",
       "2022411146070                                    0              9   \n",
       "2022411161369                                    0              9   \n",
       "2022461156056                                    2              0   \n",
       "\n",
       "                casualty_home_area_type  casualty_imd_decile lsoa_of_casualty  \n",
       "accident_index                                                                 \n",
       "2022161138447                        -1                   -1               -1  \n",
       "2022141135113                         2                    3        E01019807  \n",
       "2022201179119                        -1                   -1               -1  \n",
       "2022201179119                        -1                   -1               -1  \n",
       "2022201179619                        -1                   -1               -1  \n",
       "...                                 ...                  ...              ...  \n",
       "2022411142703                        -1                   -1               -1  \n",
       "2022201168992                         1                    8        E01009794  \n",
       "2022411146070                         1                    4        E01023330  \n",
       "2022411161369                        -1                   -1               -1  \n",
       "2022461156056                        -1                   -1               -1  \n",
       "\n",
       "[1350 rows x 16 columns]"
      ]
     },
     "execution_count": 115,
     "metadata": {},
     "output_type": "execute_result"
    }
   ],
   "source": [
    "data[data.age_of_casualty < 0]\n",
    "# probable -1 is for null data \n",
    "# becuase it has a huge part in dataset\n",
    "# and age can not be a negative value"
   ]
  },
  {
   "cell_type": "code",
   "execution_count": 116,
   "id": "366dc345-2ab4-4e10-b244-e0710543419a",
   "metadata": {},
   "outputs": [],
   "source": [
    "# turning -1 to None\n",
    "null_age_of_casualty = data[ (data.age_of_casualty == -1)].index\n",
    "for item in null_age_of_casualty:\n",
    "    data.loc[item, 'age_of_casualty'] = None"
   ]
  },
  {
   "cell_type": "markdown",
   "id": "5f7ac602-c4b6-4bff-b9f0-fce4bcc6105f",
   "metadata": {},
   "source": [
    "## age_band_of_casualty"
   ]
  },
  {
   "cell_type": "code",
   "execution_count": 120,
   "id": "363817c3-2c86-443c-a9ad-7eba5e454ec5",
   "metadata": {},
   "outputs": [
    {
     "data": {
      "text/plain": [
       "array([ 8,  6,  9, 11,  4, 10,  3,  7,  2,  5,  1, -1], dtype=int64)"
      ]
     },
     "execution_count": 120,
     "metadata": {},
     "output_type": "execute_result"
    }
   ],
   "source": [
    "data.age_band_of_casualty.unique\n",
    "# every thing ok but -1 in values"
   ]
  },
  {
   "cell_type": "code",
   "execution_count": 121,
   "id": "b1236d2e-418c-470d-8a08-44e7b1a48994",
   "metadata": {},
   "outputs": [
    {
     "data": {
      "text/plain": [
       "<Axes: xlabel='age_band_of_casualty', ylabel='Count'>"
      ]
     },
     "execution_count": 121,
     "metadata": {},
     "output_type": "execute_result"
    },
    {
     "data": {
      "image/png": "[encoded data removed]",
      "text/plain": [
       "<Figure size 640x480 with 1 Axes>"
      ]
     },
     "metadata": {},
     "output_type": "display_data"
    }
   ],
   "source": [
    "sns.histplot(data.age_band_of_casualty)\n",
    "# a complete bell plot exept for 1 values "
   ]
  },
  {
   "cell_type": "code",
   "execution_count": 122,
   "id": "0c80bb6c-b2b0-4334-a34b-c7fee3bef77d",
   "metadata": {},
   "outputs": [],
   "source": [
    "# turning -1 to None\n",
    "null_age_band_of_casualty = data[ (data.age_band_of_casualty == -1)].index\n",
    "for item in null_age_band_of_casualty:\n",
    "    data.loc[item, 'age_band_of_casualty'] = None"
   ]
  },
  {
   "cell_type": "markdown",
   "id": "40a5f813-bd83-43ed-a35e-114aa5570206",
   "metadata": {},
   "source": [
    "## casualty_severity"
   ]
  },
  {
   "cell_type": "code",
   "execution_count": 130,
   "id": "ccf72c95-f02c-42f8-8545-52eba423c97f",
   "metadata": {},
   "outputs": [
    {
     "data": {
      "text/plain": [
       "3"
      ]
     },
     "execution_count": 130,
     "metadata": {},
     "output_type": "execute_result"
    }
   ],
   "source": [
    "data.casualty_severity.unique()\n",
    "# no problem with unique values\n",
    "data.casualty_severity.nunique()\n",
    "# no problem with nunique value"
   ]
  },
  {
   "cell_type": "code",
   "execution_count": 132,
   "id": "f9f7de8a-105f-42d8-814a-5116b76c03b4",
   "metadata": {},
   "outputs": [
    {
     "data": {
      "text/plain": [
       "<Axes: xlabel='casualty_severity', ylabel='Count'>"
      ]
     },
     "execution_count": 132,
     "metadata": {},
     "output_type": "execute_result"
    },
    {
     "data": {
      "image/png": "[encoded data removed]",
      "text/plain": [
       "<Figure size 640x480 with 1 Axes>"
      ]
     },
     "metadata": {},
     "output_type": "display_data"
    }
   ],
   "source": [
    "sns.histplot(data.casualty_severity)\n",
    "# a huge part of dataset is about 3rd degree"
   ]
  },
  {
   "cell_type": "code",
   "execution_count": 148,
   "id": "8890fc55-c722-4c05-8b6b-77e2d8e315f9",
   "metadata": {
    "scrolled": true
   },
   "outputs": [],
   "source": [
    "(data[data.casualty_severity == 1].__len__() / len(data)) * 100\n",
    "# 1.2% of accidents has casualty_severity as 1 so we drop this rows\n",
    "data = data.drop(data[data.casualty_severity == 1].index)"
   ]
  },
  {
   "cell_type": "markdown",
   "id": "b3abc360-8347-4873-9c27-9e8348c01e0a",
   "metadata": {},
   "source": [
    "## pedestrian_location"
   ]
  },
  {
   "cell_type": "code",
   "execution_count": 150,
   "id": "60d0d509-83a2-4bdb-b8af-20a380279374",
   "metadata": {},
   "outputs": [
    {
     "data": {
      "text/plain": [
       "array([ 0,  5, 10,  9,  6,  8,  1,  4,  7,  3,  2], dtype=int64)"
      ]
     },
     "execution_count": 150,
     "metadata": {},
     "output_type": "execute_result"
    }
   ],
   "source": [
    "data.pedestrian_location.unique()\n",
    "# no problem with unique values"
   ]
  },
  {
   "cell_type": "code",
   "execution_count": 152,
   "id": "5cd6ec58-57d8-43da-915c-04f08f86c018",
   "metadata": {},
   "outputs": [
    {
     "data": {
      "text/plain": [
       "<Axes: xlabel='pedestrian_location', ylabel='Count'>"
      ]
     },
     "execution_count": 152,
     "metadata": {},
     "output_type": "execute_result"
    },
    {
     "data": {
      "image/png": "[encoded data removed]",
      "text/plain": [
       "<Figure size 640x480 with 1 Axes>"
      ]
     },
     "metadata": {},
     "output_type": "display_data"
    }
   ],
   "source": [
    "sns.histplot(data.pedestrian_location)"
   ]
  },
  {
   "cell_type": "code",
   "execution_count": 168,
   "id": "daa421f1-a9af-487d-9321-cc621a08dbd2",
   "metadata": {},
   "outputs": [],
   "source": [
    "data[data.pedestrian_location == 0].__len__() / len(data)\n",
    "# 85% of dataset has 0 as pedestrian_location\n",
    "# so we can consider all of them as 0 \n",
    "# infact we can drop this column\n",
    "data = data.drop(['pedestrian_location'], axis=1)"
   ]
  },
  {
   "cell_type": "code",
   "execution_count": null,
   "id": "2eb84f4d-abef-45f6-8d10-0ee490800b02",
   "metadata": {},
   "outputs": [],
   "source": []
  }
 ],
 "metadata": {
  "kernelspec": {
   "display_name": "Python 3 (ipykernel)",
   "language": "python",
   "name": "python3"
  },
  "language_info": {
   "codemirror_mode": {
    "name": "ipython",
    "version": 3
   },
   "file_extension": ".py",
   "mimetype": "text/x-python",
   "name": "python",
   "nbconvert_exporter": "python",
   "pygments_lexer": "ipython3",
   "version": "3.12.0"
  }
 },
 "nbformat": 4,
 "nbformat_minor": 5
}
