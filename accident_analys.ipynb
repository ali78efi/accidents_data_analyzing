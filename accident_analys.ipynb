{
 "cells": [
  {
   "cell_type": "code",
   "execution_count": 30,
   "id": "9fe25bcc-573b-4d39-8848-dd5635a72a92",
   "metadata": {},
   "outputs": [],
   "source": [
    "import pandas as pd\n",
    "import matplotlib.pyplot as plt\n",
    "import seaborn as sns"
   ]
  },
  {
   "cell_type": "markdown",
   "id": "ed79eae5-8e3e-401f-ab41-f6978fc846a4",
   "metadata": {},
   "source": [
    "# data loading and preparing"
   ]
  },
  {
   "cell_type": "code",
   "execution_count": 31,
   "id": "1b57525f-1914-457c-9892-f9d4f228e9ca",
   "metadata": {},
   "outputs": [
    {
     "data": {
      "text/html": [
       "<div>\n",
       "<style scoped>\n",
       "    .dataframe tbody tr th:only-of-type {\n",
       "        vertical-align: middle;\n",
       "    }\n",
       "\n",
       "    .dataframe tbody tr th {\n",
       "        vertical-align: top;\n",
       "    }\n",
       "\n",
       "    .dataframe thead th {\n",
       "        text-align: right;\n",
       "    }\n",
       "</style>\n",
       "<table border=\"1\" class=\"dataframe\">\n",
       "  <thead>\n",
       "    <tr style=\"text-align: right;\">\n",
       "      <th></th>\n",
       "      <th>status</th>\n",
       "      <th>accident_year</th>\n",
       "      <th>accident_reference</th>\n",
       "      <th>vehicle_reference</th>\n",
       "      <th>casualty_reference</th>\n",
       "      <th>casualty_class</th>\n",
       "      <th>sex_of_casualty</th>\n",
       "      <th>age_of_casualty</th>\n",
       "      <th>age_band_of_casualty</th>\n",
       "      <th>casualty_severity</th>\n",
       "      <th>pedestrian_location</th>\n",
       "      <th>pedestrian_movement</th>\n",
       "      <th>car_passenger</th>\n",
       "      <th>bus_or_coach_passenger</th>\n",
       "      <th>pedestrian_road_maintenance_worker</th>\n",
       "      <th>casualty_type</th>\n",
       "      <th>casualty_home_area_type</th>\n",
       "      <th>casualty_imd_decile</th>\n",
       "      <th>lsoa_of_casualty</th>\n",
       "    </tr>\n",
       "    <tr>\n",
       "      <th>accident_index</th>\n",
       "      <th></th>\n",
       "      <th></th>\n",
       "      <th></th>\n",
       "      <th></th>\n",
       "      <th></th>\n",
       "      <th></th>\n",
       "      <th></th>\n",
       "      <th></th>\n",
       "      <th></th>\n",
       "      <th></th>\n",
       "      <th></th>\n",
       "      <th></th>\n",
       "      <th></th>\n",
       "      <th></th>\n",
       "      <th></th>\n",
       "      <th></th>\n",
       "      <th></th>\n",
       "      <th></th>\n",
       "      <th></th>\n",
       "    </tr>\n",
       "  </thead>\n",
       "  <tbody>\n",
       "    <tr>\n",
       "      <th>2022070151244</th>\n",
       "      <td>Unvalidated</td>\n",
       "      <td>2022</td>\n",
       "      <td>070151244</td>\n",
       "      <td>2</td>\n",
       "      <td>1</td>\n",
       "      <td>1</td>\n",
       "      <td>2</td>\n",
       "      <td>46</td>\n",
       "      <td>8</td>\n",
       "      <td>3</td>\n",
       "      <td>0</td>\n",
       "      <td>0</td>\n",
       "      <td>0</td>\n",
       "      <td>0</td>\n",
       "      <td>0</td>\n",
       "      <td>9</td>\n",
       "      <td>1</td>\n",
       "      <td>9</td>\n",
       "      <td>E01033378</td>\n",
       "    </tr>\n",
       "    <tr>\n",
       "      <th>2022070152668</th>\n",
       "      <td>Unvalidated</td>\n",
       "      <td>2022</td>\n",
       "      <td>070152668</td>\n",
       "      <td>1</td>\n",
       "      <td>1</td>\n",
       "      <td>1</td>\n",
       "      <td>1</td>\n",
       "      <td>30</td>\n",
       "      <td>6</td>\n",
       "      <td>3</td>\n",
       "      <td>0</td>\n",
       "      <td>0</td>\n",
       "      <td>0</td>\n",
       "      <td>0</td>\n",
       "      <td>0</td>\n",
       "      <td>9</td>\n",
       "      <td>1</td>\n",
       "      <td>2</td>\n",
       "      <td>E01018551</td>\n",
       "    </tr>\n",
       "    <tr>\n",
       "      <th>2022070154696</th>\n",
       "      <td>Unvalidated</td>\n",
       "      <td>2022</td>\n",
       "      <td>070154696</td>\n",
       "      <td>1</td>\n",
       "      <td>1</td>\n",
       "      <td>1</td>\n",
       "      <td>2</td>\n",
       "      <td>58</td>\n",
       "      <td>9</td>\n",
       "      <td>3</td>\n",
       "      <td>0</td>\n",
       "      <td>0</td>\n",
       "      <td>0</td>\n",
       "      <td>0</td>\n",
       "      <td>0</td>\n",
       "      <td>9</td>\n",
       "      <td>1</td>\n",
       "      <td>10</td>\n",
       "      <td>E01006134</td>\n",
       "    </tr>\n",
       "    <tr>\n",
       "      <th>2022070154696</th>\n",
       "      <td>Unvalidated</td>\n",
       "      <td>2022</td>\n",
       "      <td>070154696</td>\n",
       "      <td>2</td>\n",
       "      <td>3</td>\n",
       "      <td>1</td>\n",
       "      <td>2</td>\n",
       "      <td>78</td>\n",
       "      <td>11</td>\n",
       "      <td>3</td>\n",
       "      <td>0</td>\n",
       "      <td>0</td>\n",
       "      <td>0</td>\n",
       "      <td>0</td>\n",
       "      <td>0</td>\n",
       "      <td>9</td>\n",
       "      <td>2</td>\n",
       "      <td>10</td>\n",
       "      <td>E01018724</td>\n",
       "    </tr>\n",
       "    <tr>\n",
       "      <th>2022070154696</th>\n",
       "      <td>Unvalidated</td>\n",
       "      <td>2022</td>\n",
       "      <td>070154696</td>\n",
       "      <td>3</td>\n",
       "      <td>2</td>\n",
       "      <td>1</td>\n",
       "      <td>1</td>\n",
       "      <td>63</td>\n",
       "      <td>9</td>\n",
       "      <td>3</td>\n",
       "      <td>0</td>\n",
       "      <td>0</td>\n",
       "      <td>0</td>\n",
       "      <td>0</td>\n",
       "      <td>0</td>\n",
       "      <td>9</td>\n",
       "      <td>3</td>\n",
       "      <td>7</td>\n",
       "      <td>W01000578</td>\n",
       "    </tr>\n",
       "  </tbody>\n",
       "</table>\n",
       "</div>"
      ],
      "text/plain": [
       "                     status  accident_year accident_reference  \\\n",
       "accident_index                                                  \n",
       "2022070151244   Unvalidated           2022          070151244   \n",
       "2022070152668   Unvalidated           2022          070152668   \n",
       "2022070154696   Unvalidated           2022          070154696   \n",
       "2022070154696   Unvalidated           2022          070154696   \n",
       "2022070154696   Unvalidated           2022          070154696   \n",
       "\n",
       "                vehicle_reference  casualty_reference  casualty_class  \\\n",
       "accident_index                                                          \n",
       "2022070151244                   2                   1               1   \n",
       "2022070152668                   1                   1               1   \n",
       "2022070154696                   1                   1               1   \n",
       "2022070154696                   2                   3               1   \n",
       "2022070154696                   3                   2               1   \n",
       "\n",
       "                sex_of_casualty  age_of_casualty  age_band_of_casualty  \\\n",
       "accident_index                                                           \n",
       "2022070151244                 2               46                     8   \n",
       "2022070152668                 1               30                     6   \n",
       "2022070154696                 2               58                     9   \n",
       "2022070154696                 2               78                    11   \n",
       "2022070154696                 1               63                     9   \n",
       "\n",
       "                casualty_severity  pedestrian_location  pedestrian_movement  \\\n",
       "accident_index                                                                \n",
       "2022070151244                   3                    0                    0   \n",
       "2022070152668                   3                    0                    0   \n",
       "2022070154696                   3                    0                    0   \n",
       "2022070154696                   3                    0                    0   \n",
       "2022070154696                   3                    0                    0   \n",
       "\n",
       "                car_passenger  bus_or_coach_passenger  \\\n",
       "accident_index                                          \n",
       "2022070151244               0                       0   \n",
       "2022070152668               0                       0   \n",
       "2022070154696               0                       0   \n",
       "2022070154696               0                       0   \n",
       "2022070154696               0                       0   \n",
       "\n",
       "                pedestrian_road_maintenance_worker  casualty_type  \\\n",
       "accident_index                                                      \n",
       "2022070151244                                    0              9   \n",
       "2022070152668                                    0              9   \n",
       "2022070154696                                    0              9   \n",
       "2022070154696                                    0              9   \n",
       "2022070154696                                    0              9   \n",
       "\n",
       "                casualty_home_area_type  casualty_imd_decile lsoa_of_casualty  \n",
       "accident_index                                                                 \n",
       "2022070151244                         1                    9        E01033378  \n",
       "2022070152668                         1                    2        E01018551  \n",
       "2022070154696                         1                   10        E01006134  \n",
       "2022070154696                         2                   10        E01018724  \n",
       "2022070154696                         3                    7        W01000578  "
      ]
     },
     "execution_count": 31,
     "metadata": {},
     "output_type": "execute_result"
    }
   ],
   "source": [
    "data = pd.read_csv('./dft-road-casualty-statistics-casualty-provisional-mid-year-unvalidated-2022.csv', index_col=\"accident_index\")\n",
    "data.head()"
   ]
  },
  {
   "cell_type": "code",
   "execution_count": 32,
   "id": "4cae16cf-9afd-44fd-ac09-fad276c4137e",
   "metadata": {},
   "outputs": [
    {
     "name": "stdout",
     "output_type": "stream",
     "text": [
      "<class 'pandas.core.frame.DataFrame'>\n",
      "Index: 61352 entries, 2022070151244 to 2022461159841\n",
      "Data columns (total 19 columns):\n",
      " #   Column                              Non-Null Count  Dtype \n",
      "---  ------                              --------------  ----- \n",
      " 0   status                              61352 non-null  object\n",
      " 1   accident_year                       61352 non-null  int64 \n",
      " 2   accident_reference                  61352 non-null  object\n",
      " 3   vehicle_reference                   61352 non-null  int64 \n",
      " 4   casualty_reference                  61352 non-null  int64 \n",
      " 5   casualty_class                      61352 non-null  int64 \n",
      " 6   sex_of_casualty                     61352 non-null  int64 \n",
      " 7   age_of_casualty                     61352 non-null  int64 \n",
      " 8   age_band_of_casualty                61352 non-null  int64 \n",
      " 9   casualty_severity                   61352 non-null  int64 \n",
      " 10  pedestrian_location                 61352 non-null  int64 \n",
      " 11  pedestrian_movement                 61352 non-null  int64 \n",
      " 12  car_passenger                       61352 non-null  int64 \n",
      " 13  bus_or_coach_passenger              61352 non-null  int64 \n",
      " 14  pedestrian_road_maintenance_worker  61352 non-null  int64 \n",
      " 15  casualty_type                       61352 non-null  int64 \n",
      " 16  casualty_home_area_type             61352 non-null  int64 \n",
      " 17  casualty_imd_decile                 61352 non-null  int64 \n",
      " 18  lsoa_of_casualty                    61352 non-null  object\n",
      "dtypes: int64(16), object(3)\n",
      "memory usage: 9.4+ MB\n"
     ]
    }
   ],
   "source": [
    "data.info()"
   ]
  },
  {
   "cell_type": "markdown",
   "id": "e793363d-135e-4c75-ab0f-18a9c8012038",
   "metadata": {},
   "source": [
    "# EDA"
   ]
  },
  {
   "cell_type": "markdown",
   "id": "88fbb06d-eaf4-4df2-b0b8-efe7f01fed9b",
   "metadata": {},
   "source": [
    "## status column"
   ]
  },
  {
   "cell_type": "code",
   "execution_count": 33,
   "id": "fe836eaf-28c4-4e8b-867a-1ca61079f3f0",
   "metadata": {},
   "outputs": [
    {
     "data": {
      "text/plain": [
       "array(['Unvalidated'], dtype=object)"
      ]
     },
     "execution_count": 33,
     "metadata": {},
     "output_type": "execute_result"
    }
   ],
   "source": [
    "data['status'].unique()"
   ]
  },
  {
   "cell_type": "markdown",
   "id": "cff15086-1b1b-4e50-a4ca-72e4921d83ec",
   "metadata": {},
   "source": [
    "Every value in \"status\" column, is \"Unvalidated\".\n",
    "So this column has nothing to tell and we can drop it."
   ]
  },
  {
   "cell_type": "code",
   "execution_count": 34,
   "id": "b39b55c2-fd53-464d-b79f-afb51bac9fc6",
   "metadata": {},
   "outputs": [],
   "source": [
    "data = data.drop(['status'], axis=1)"
   ]
  },
  {
   "cell_type": "markdown",
   "id": "b69c221a-dd2c-48dd-b251-b31fed3c3300",
   "metadata": {},
   "source": [
    "## accident_year column"
   ]
  },
  {
   "cell_type": "code",
   "execution_count": 35,
   "id": "865c18a1-bfe4-4f5b-9473-84ae16602baa",
   "metadata": {},
   "outputs": [
    {
     "data": {
      "text/plain": [
       "array([2022], dtype=int64)"
      ]
     },
     "execution_count": 35,
     "metadata": {},
     "output_type": "execute_result"
    }
   ],
   "source": [
    "data.accident_year.unique()"
   ]
  },
  {
   "cell_type": "markdown",
   "id": "6aa66ffd-b7b9-46d4-a53a-853431ac1cda",
   "metadata": {},
   "source": [
    "Every value in \"accident_year\" column, is \"2022\".\n",
    "So this column has nothing to tell and we can drop it."
   ]
  },
  {
   "cell_type": "code",
   "execution_count": 36,
   "id": "98ec518a-a6ed-42b1-b604-c0c42fc49280",
   "metadata": {},
   "outputs": [],
   "source": [
    "data = data.drop(['accident_year'], axis=1)"
   ]
  },
  {
   "cell_type": "markdown",
   "id": "cd5dd003-bca9-4c44-b3b8-b73005305933",
   "metadata": {},
   "source": [
    "## accident_reference"
   ]
  },
  {
   "cell_type": "code",
   "execution_count": 37,
   "id": "9cdcb7dd-fee6-414e-910f-51000436487d",
   "metadata": {
    "scrolled": true
   },
   "outputs": [
    {
     "name": "stdout",
     "output_type": "stream",
     "text": [
      "170H10152\n"
     ]
    }
   ],
   "source": [
    "data.accident_reference.unique()\n",
    "# no problem with unique values\n",
    "data.accident_reference.nunique()\n",
    "# there is 48283 kind of values in this column\n",
    "\n",
    "# trying to turn it to numeric tyupe\n",
    "for value in data.accident_reference:\n",
    "    try:\n",
    "        float(value)\n",
    "    except:\n",
    "        print(value)\n",
    "        break"
   ]
  },
  {
   "cell_type": "markdown",
   "id": "80b5a8de-1871-4b35-84e6-6ed605a01d24",
   "metadata": {},
   "source": [
    "this column is a kind of code.\n",
    "the nunique id too large to decode it.\n",
    "it's almost different for every column.\n",
    "so we refuse using it, because there is no information in this column."
   ]
  },
  {
   "cell_type": "code",
   "execution_count": 38,
   "id": "7226b49b-3635-4750-bcbb-a5d038abaf0e",
   "metadata": {},
   "outputs": [],
   "source": [
    "data = data.drop(['accident_reference'], axis=1)"
   ]
  },
  {
   "cell_type": "markdown",
   "id": "e7cdad5b-b044-4181-ba06-c2a913a5ebd4",
   "metadata": {},
   "source": [
    "## vehicle_reference"
   ]
  },
  {
   "cell_type": "code",
   "execution_count": 47,
   "id": "3f2d9f02-00d9-44a5-89dd-e0d2b5d89b19",
   "metadata": {},
   "outputs": [
    {
     "data": {
      "text/plain": [
       "array([  2,   1,   3,   4,   5,   8,   6,   9, 227,   7,  61], dtype=int64)"
      ]
     },
     "execution_count": 47,
     "metadata": {},
     "output_type": "execute_result"
    }
   ],
   "source": [
    "data.vehicle_reference.unique()\n",
    "# 277 and 61 should be checked"
   ]
  },
  {
   "cell_type": "code",
   "execution_count": 40,
   "id": "3001ab57-f224-4c8c-a4b1-69d7cb174dac",
   "metadata": {},
   "outputs": [
    {
     "data": {
      "text/html": [
       "<div>\n",
       "<style scoped>\n",
       "    .dataframe tbody tr th:only-of-type {\n",
       "        vertical-align: middle;\n",
       "    }\n",
       "\n",
       "    .dataframe tbody tr th {\n",
       "        vertical-align: top;\n",
       "    }\n",
       "\n",
       "    .dataframe thead th {\n",
       "        text-align: right;\n",
       "    }\n",
       "</style>\n",
       "<table border=\"1\" class=\"dataframe\">\n",
       "  <thead>\n",
       "    <tr style=\"text-align: right;\">\n",
       "      <th></th>\n",
       "      <th>vehicle_reference</th>\n",
       "      <th>casualty_reference</th>\n",
       "      <th>casualty_class</th>\n",
       "      <th>sex_of_casualty</th>\n",
       "      <th>age_of_casualty</th>\n",
       "      <th>age_band_of_casualty</th>\n",
       "      <th>casualty_severity</th>\n",
       "      <th>pedestrian_location</th>\n",
       "      <th>pedestrian_movement</th>\n",
       "      <th>car_passenger</th>\n",
       "      <th>bus_or_coach_passenger</th>\n",
       "      <th>pedestrian_road_maintenance_worker</th>\n",
       "      <th>casualty_type</th>\n",
       "      <th>casualty_home_area_type</th>\n",
       "      <th>casualty_imd_decile</th>\n",
       "      <th>lsoa_of_casualty</th>\n",
       "    </tr>\n",
       "    <tr>\n",
       "      <th>accident_index</th>\n",
       "      <th></th>\n",
       "      <th></th>\n",
       "      <th></th>\n",
       "      <th></th>\n",
       "      <th></th>\n",
       "      <th></th>\n",
       "      <th></th>\n",
       "      <th></th>\n",
       "      <th></th>\n",
       "      <th></th>\n",
       "      <th></th>\n",
       "      <th></th>\n",
       "      <th></th>\n",
       "      <th></th>\n",
       "      <th></th>\n",
       "      <th></th>\n",
       "    </tr>\n",
       "  </thead>\n",
       "  <tbody>\n",
       "    <tr>\n",
       "      <th>2022311153207</th>\n",
       "      <td>227</td>\n",
       "      <td>1</td>\n",
       "      <td>3</td>\n",
       "      <td>2</td>\n",
       "      <td>14</td>\n",
       "      <td>3</td>\n",
       "      <td>3</td>\n",
       "      <td>1</td>\n",
       "      <td>3</td>\n",
       "      <td>0</td>\n",
       "      <td>0</td>\n",
       "      <td>0</td>\n",
       "      <td>0</td>\n",
       "      <td>1</td>\n",
       "      <td>2</td>\n",
       "      <td>E01013947</td>\n",
       "    </tr>\n",
       "    <tr>\n",
       "      <th>2022311214493</th>\n",
       "      <td>61</td>\n",
       "      <td>1</td>\n",
       "      <td>1</td>\n",
       "      <td>1</td>\n",
       "      <td>21</td>\n",
       "      <td>5</td>\n",
       "      <td>3</td>\n",
       "      <td>0</td>\n",
       "      <td>0</td>\n",
       "      <td>0</td>\n",
       "      <td>0</td>\n",
       "      <td>0</td>\n",
       "      <td>3</td>\n",
       "      <td>2</td>\n",
       "      <td>8</td>\n",
       "      <td>E01028032</td>\n",
       "    </tr>\n",
       "  </tbody>\n",
       "</table>\n",
       "</div>"
      ],
      "text/plain": [
       "                vehicle_reference  casualty_reference  casualty_class  \\\n",
       "accident_index                                                          \n",
       "2022311153207                 227                   1               3   \n",
       "2022311214493                  61                   1               1   \n",
       "\n",
       "                sex_of_casualty  age_of_casualty  age_band_of_casualty  \\\n",
       "accident_index                                                           \n",
       "2022311153207                 2               14                     3   \n",
       "2022311214493                 1               21                     5   \n",
       "\n",
       "                casualty_severity  pedestrian_location  pedestrian_movement  \\\n",
       "accident_index                                                                \n",
       "2022311153207                   3                    1                    3   \n",
       "2022311214493                   3                    0                    0   \n",
       "\n",
       "                car_passenger  bus_or_coach_passenger  \\\n",
       "accident_index                                          \n",
       "2022311153207               0                       0   \n",
       "2022311214493               0                       0   \n",
       "\n",
       "                pedestrian_road_maintenance_worker  casualty_type  \\\n",
       "accident_index                                                      \n",
       "2022311153207                                    0              0   \n",
       "2022311214493                                    0              3   \n",
       "\n",
       "                casualty_home_area_type  casualty_imd_decile lsoa_of_casualty  \n",
       "accident_index                                                                 \n",
       "2022311153207                         1                    2        E01013947  \n",
       "2022311214493                         2                    8        E01028032  "
      ]
     },
     "execution_count": 40,
     "metadata": {},
     "output_type": "execute_result"
    }
   ],
   "source": [
    "data[ (data.vehicle_reference == 61) | (data.vehicle_reference == 227) ] \n",
    "# they are outlier data"
   ]
  },
  {
   "cell_type": "code",
   "execution_count": 63,
   "id": "2fe89301-eb9d-44bb-9a44-961958b95081",
   "metadata": {},
   "outputs": [],
   "source": [
    "# turning this outliers values to None\n",
    "vehicle_ref_outliers = data[ (data.vehicle_reference == 61) | (data.vehicle_reference == 227) ].index\n",
    "for item in vehicle_ref_outliers:\n",
    "    data.loc[item, 'vehicle_reference'] = None"
   ]
  },
  {
   "cell_type": "markdown",
   "id": "cdb7f7fe-d177-4ac1-a343-8c084d673b3d",
   "metadata": {},
   "source": [
    "## casualty_reference"
   ]
  },
  {
   "cell_type": "code",
   "execution_count": 69,
   "id": "5b898a7c-e3bb-4308-814c-7748403d810a",
   "metadata": {},
   "outputs": [
    {
     "data": {
      "text/html": [
       "<div>\n",
       "<style scoped>\n",
       "    .dataframe tbody tr th:only-of-type {\n",
       "        vertical-align: middle;\n",
       "    }\n",
       "\n",
       "    .dataframe tbody tr th {\n",
       "        vertical-align: top;\n",
       "    }\n",
       "\n",
       "    .dataframe thead th {\n",
       "        text-align: right;\n",
       "    }\n",
       "</style>\n",
       "<table border=\"1\" class=\"dataframe\">\n",
       "  <thead>\n",
       "    <tr style=\"text-align: right;\">\n",
       "      <th></th>\n",
       "      <th>vehicle_reference</th>\n",
       "      <th>casualty_reference</th>\n",
       "      <th>casualty_class</th>\n",
       "      <th>sex_of_casualty</th>\n",
       "      <th>age_of_casualty</th>\n",
       "      <th>age_band_of_casualty</th>\n",
       "      <th>casualty_severity</th>\n",
       "      <th>pedestrian_location</th>\n",
       "      <th>pedestrian_movement</th>\n",
       "      <th>car_passenger</th>\n",
       "      <th>bus_or_coach_passenger</th>\n",
       "      <th>pedestrian_road_maintenance_worker</th>\n",
       "      <th>casualty_type</th>\n",
       "      <th>casualty_home_area_type</th>\n",
       "      <th>casualty_imd_decile</th>\n",
       "      <th>lsoa_of_casualty</th>\n",
       "    </tr>\n",
       "    <tr>\n",
       "      <th>accident_index</th>\n",
       "      <th></th>\n",
       "      <th></th>\n",
       "      <th></th>\n",
       "      <th></th>\n",
       "      <th></th>\n",
       "      <th></th>\n",
       "      <th></th>\n",
       "      <th></th>\n",
       "      <th></th>\n",
       "      <th></th>\n",
       "      <th></th>\n",
       "      <th></th>\n",
       "      <th></th>\n",
       "      <th></th>\n",
       "      <th></th>\n",
       "      <th></th>\n",
       "    </tr>\n",
       "  </thead>\n",
       "  <tbody>\n",
       "    <tr>\n",
       "      <th>2022231137324</th>\n",
       "      <td>1.0</td>\n",
       "      <td>22</td>\n",
       "      <td>2</td>\n",
       "      <td>1</td>\n",
       "      <td>24</td>\n",
       "      <td>5</td>\n",
       "      <td>3</td>\n",
       "      <td>0</td>\n",
       "      <td>0</td>\n",
       "      <td>1</td>\n",
       "      <td>0</td>\n",
       "      <td>0</td>\n",
       "      <td>9</td>\n",
       "      <td>1</td>\n",
       "      <td>6</td>\n",
       "      <td>E01009278</td>\n",
       "    </tr>\n",
       "    <tr>\n",
       "      <th>2022302200086</th>\n",
       "      <td>2.0</td>\n",
       "      <td>148</td>\n",
       "      <td>1</td>\n",
       "      <td>2</td>\n",
       "      <td>21</td>\n",
       "      <td>5</td>\n",
       "      <td>3</td>\n",
       "      <td>0</td>\n",
       "      <td>0</td>\n",
       "      <td>0</td>\n",
       "      <td>0</td>\n",
       "      <td>0</td>\n",
       "      <td>3</td>\n",
       "      <td>1</td>\n",
       "      <td>3</td>\n",
       "      <td>E01013471</td>\n",
       "    </tr>\n",
       "  </tbody>\n",
       "</table>\n",
       "</div>"
      ],
      "text/plain": [
       "                vehicle_reference  casualty_reference  casualty_class  \\\n",
       "accident_index                                                          \n",
       "2022231137324                 1.0                  22               2   \n",
       "2022302200086                 2.0                 148               1   \n",
       "\n",
       "                sex_of_casualty  age_of_casualty  age_band_of_casualty  \\\n",
       "accident_index                                                           \n",
       "2022231137324                 1               24                     5   \n",
       "2022302200086                 2               21                     5   \n",
       "\n",
       "                casualty_severity  pedestrian_location  pedestrian_movement  \\\n",
       "accident_index                                                                \n",
       "2022231137324                   3                    0                    0   \n",
       "2022302200086                   3                    0                    0   \n",
       "\n",
       "                car_passenger  bus_or_coach_passenger  \\\n",
       "accident_index                                          \n",
       "2022231137324               1                       0   \n",
       "2022302200086               0                       0   \n",
       "\n",
       "                pedestrian_road_maintenance_worker  casualty_type  \\\n",
       "accident_index                                                      \n",
       "2022231137324                                    0              9   \n",
       "2022302200086                                    0              3   \n",
       "\n",
       "                casualty_home_area_type  casualty_imd_decile lsoa_of_casualty  \n",
       "accident_index                                                                 \n",
       "2022231137324                         1                    6        E01009278  \n",
       "2022302200086                         1                    3        E01013471  "
      ]
     },
     "execution_count": 69,
     "metadata": {},
     "output_type": "execute_result"
    }
   ],
   "source": [
    "data['casualty_reference'].unique() \n",
    "# 22 and 148 should be checked\n",
    "data[(data['casualty_reference'] == 22) | (data['casualty_reference'] == 148)]\n",
    "# they are outlier data"
   ]
  },
  {
   "cell_type": "code",
   "execution_count": 72,
   "id": "a4b0d590-4b07-467d-9bec-d768cd6c6050",
   "metadata": {},
   "outputs": [],
   "source": [
    "# turning this outliers values to None\n",
    "casualty_ref_outliers = data[ (data.casualty_reference == 22) | (data.casualty_reference == 148) ].index\n",
    "for item in casualty_ref_outliers:\n",
    "    data.loc[item, 'casualty_reference'] = None"
   ]
  },
  {
   "cell_type": "markdown",
   "id": "680bef84-89ea-4554-aef3-226c6c305840",
   "metadata": {},
   "source": [
    "## casualty_class"
   ]
  },
  {
   "cell_type": "code",
   "execution_count": 77,
   "id": "54a5e42c-412d-4ff4-bfc7-ad28b2710aac",
   "metadata": {},
   "outputs": [
    {
     "data": {
      "text/plain": [
       "array([1, 2, 3], dtype=int64)"
      ]
     },
     "execution_count": 77,
     "metadata": {},
     "output_type": "execute_result"
    }
   ],
   "source": [
    "data.casualty_class.unique()\n",
    "# no problem with unique values"
   ]
  },
  {
   "cell_type": "code",
   "execution_count": 78,
   "id": "35fa7851-8f10-416a-9079-8287aaa395bd",
   "metadata": {},
   "outputs": [
    {
     "data": {
      "text/plain": [
       "<Axes: xlabel='casualty_class', ylabel='Count'>"
      ]
     },
     "execution_count": 78,
     "metadata": {},
     "output_type": "execute_result"
    },
    {
     "data": {
      "image/png": "[encoded data removed]",
      "text/plain": [
       "<Figure size 640x480 with 1 Axes>"
      ]
     },
     "metadata": {},
     "output_type": "display_data"
    }
   ],
   "source": [
    "sns.histplot(data.casualty_class)\n",
    "# a huge part of dataset is about class 1"
   ]
  },
  {
   "cell_type": "code",
   "execution_count": null,
   "id": "9ccacbc3-d486-4889-b14e-0022d93615c7",
   "metadata": {},
   "outputs": [],
   "source": []
  }
 ],
 "metadata": {
  "kernelspec": {
   "display_name": "Python 3 (ipykernel)",
   "language": "python",
   "name": "python3"
  },
  "language_info": {
   "codemirror_mode": {
    "name": "ipython",
    "version": 3
   },
   "file_extension": ".py",
   "mimetype": "text/x-python",
   "name": "python",
   "nbconvert_exporter": "python",
   "pygments_lexer": "ipython3",
   "version": "3.12.0"
  }
 },
 "nbformat": 4,
 "nbformat_minor": 5
}
